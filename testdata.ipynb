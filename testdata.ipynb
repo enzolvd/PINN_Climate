{
 "cells": [
  {
   "cell_type": "code",
   "execution_count": 1,
   "metadata": {},
   "outputs": [],
   "source": [
    "from dataset import load_dataset\n",
    "from models.model_1 import ClimatePINN\n",
    "from train import plot_comparison\n",
    "from torch.utils.data import DataLoader\n",
    "import numpy as np\n",
    "import matplotlib.pyplot as plt\n",
    "import torch\n",
    "import xarray as xr\n",
    "from visualisation import visualize_predictions"
   ]
  },
  {
   "cell_type": "code",
   "execution_count": 2,
   "metadata": {},
   "outputs": [],
   "source": [
    "temp = load_dataset(\n",
    "    10, \n",
    "    train_val_split = 0.8, \n",
    "    year0=1979, \n",
    "    root_dir=\"./data/era_5_data\",\n",
    "    normalize=True)\n",
    "load = DataLoader(temp['train'], batch_size=16, shuffle=True)\n",
    "data = next(iter(load))"
   ]
  },
  {
   "cell_type": "code",
   "execution_count": 7,
   "metadata": {},
   "outputs": [],
   "source": [
    "\n",
    "# # Example usage\n",
    "# checkpoint_path = \"checkpoints/run_1.pt\"  # Update with your checkpoint path\n",
    "# data_dir = \"./data/era_5_data\"  # Update with your data directory\n",
    "# visualize_predictions(checkpoint_path, data_dir,72)"
   ]
  }
 ],
 "metadata": {
  "kernelspec": {
   "display_name": "projet_IA",
   "language": "python",
   "name": "python3"
  },
  "language_info": {
   "codemirror_mode": {
    "name": "ipython",
    "version": 3
   },
   "file_extension": ".py",
   "mimetype": "text/x-python",
   "name": "python",
   "nbconvert_exporter": "python",
   "pygments_lexer": "ipython3",
   "version": "3.12.8"
  }
 },
 "nbformat": 4,
 "nbformat_minor": 2
}
