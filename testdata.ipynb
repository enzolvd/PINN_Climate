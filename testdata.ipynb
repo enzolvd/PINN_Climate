{
 "cells": [
  {
   "cell_type": "code",
   "execution_count": 1,
   "metadata": {},
   "outputs": [],
   "source": [
    "from dataset import load_dataset\n",
    "from model import ClimatePINN\n",
    "from train import plot_comparison\n",
    "from torch.utils.data import DataLoader\n",
    "import numpy as np\n",
    "import matplotlib.pyplot as plt\n",
    "import torch"
   ]
  },
  {
   "cell_type": "code",
   "execution_count": 2,
   "metadata": {},
   "outputs": [],
   "source": [
    "ars = None\n",
    "if ars:\n",
    "    print(0)"
   ]
  },
  {
   "cell_type": "code",
   "execution_count": 3,
   "metadata": {},
   "outputs": [],
   "source": [
    "device = torch.device('cuda' if torch.cuda.is_available() else 'cpu')\n",
    "nb_file = 1\n",
    "split_train_val = 0.8\n",
    "datasets = load_dataset(nb_file)\n",
    "datalaoder =DataLoader(datasets['train'], batch_size=32, shuffle=True)\n",
    "batch = next(iter(datalaoder))\n",
    "model = ClimatePINN().to(device)\n",
    "meteo_inputs, target, coords, masks, norm_params = batch.values()\n",
    "meteo_inputs, target, masks = meteo_inputs.to(device), target.to(device), masks.to(device)\n",
    "for i in range(3):\n",
    "    coords[i] = coords[i].to(device)\n",
    "pred_target = model.forward(meteo_inputs, masks, coords)\n"
   ]
  }
 ],
 "metadata": {
  "kernelspec": {
   "display_name": "projet_IA",
   "language": "python",
   "name": "python3"
  },
  "language_info": {
   "codemirror_mode": {
    "name": "ipython",
    "version": 3
   },
   "file_extension": ".py",
   "mimetype": "text/x-python",
   "name": "python",
   "nbconvert_exporter": "python",
   "pygments_lexer": "ipython3",
   "version": "3.12.8"
  }
 },
 "nbformat": 4,
 "nbformat_minor": 2
}
