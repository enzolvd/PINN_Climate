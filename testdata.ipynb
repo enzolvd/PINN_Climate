{
 "cells": [
  {
   "cell_type": "code",
   "execution_count": 1,
   "metadata": {},
   "outputs": [],
   "source": [
    "from dataset import ERADataset\n",
    "import xarray as xr\n",
    "import os\n",
    "import re\n",
    "import numpy as np"
   ]
  },
  {
   "cell_type": "code",
   "execution_count": 2,
   "metadata": {},
   "outputs": [],
   "source": [
    "root_dir = \"./data/era_5_data\"\n",
    "\n",
    "dataset = ERADataset(root_dir, 0, [2003,2004])"
   ]
  },
  {
   "cell_type": "code",
   "execution_count": 6,
   "metadata": {},
   "outputs": [
    {
     "data": {
      "text/plain": [
       "array([[-87.1875, -87.1875, -87.1875, ..., -87.1875, -87.1875, -87.1875],\n",
       "       [-81.5625, -81.5625, -81.5625, ..., -81.5625, -81.5625, -81.5625],\n",
       "       [-75.9375, -75.9375, -75.9375, ..., -75.9375, -75.9375, -75.9375],\n",
       "       ...,\n",
       "       [ 75.9375,  75.9375,  75.9375, ...,  75.9375,  75.9375,  75.9375],\n",
       "       [ 81.5625,  81.5625,  81.5625, ...,  81.5625,  81.5625,  81.5625],\n",
       "       [ 87.1875,  87.1875,  87.1875, ...,  87.1875,  87.1875,  87.1875]])"
      ]
     },
     "execution_count": 6,
     "metadata": {},
     "output_type": "execute_result"
    }
   ],
   "source": [
    "dataset.grid_ds.lat2d.to_numpy()"
   ]
  }
 ],
 "metadata": {
  "kernelspec": {
   "display_name": "projet_IA",
   "language": "python",
   "name": "python3"
  },
  "language_info": {
   "codemirror_mode": {
    "name": "ipython",
    "version": 3
   },
   "file_extension": ".py",
   "mimetype": "text/x-python",
   "name": "python",
   "nbconvert_exporter": "python",
   "pygments_lexer": "ipython3",
   "version": "3.12.8"
  }
 },
 "nbformat": 4,
 "nbformat_minor": 2
}
