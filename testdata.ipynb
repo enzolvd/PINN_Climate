{
 "cells": [
  {
   "cell_type": "code",
   "execution_count": 1,
   "metadata": {},
   "outputs": [],
   "source": [
    "from dataset import load_dataset\n",
    "from models.model_3 import ClimatePINN\n",
    "from train import plot_comparison\n",
    "from torch.utils.data import DataLoader\n",
    "import numpy as np\n",
    "import matplotlib.pyplot as plt\n",
    "import torch\n",
    "import xarray as xr\n",
    "from visualisation import visualize_predictions"
   ]
  },
  {
   "cell_type": "code",
   "execution_count": 2,
   "metadata": {},
   "outputs": [],
   "source": [
    "temp = load_dataset(\n",
    "    1, \n",
    "    train_val_split = None, \n",
    "    year0=1979, \n",
    "    root_dir=\"./data/era_5_data\",\n",
    "    normalize=True)\n",
    "load = DataLoader(temp['train'], batch_size=16, shuffle=True)\n",
    "data = next(iter(load))\n",
    "inputs, masks, targets, coords = data['input'], data['masks'], data['target'], data['coords']"
   ]
  },
  {
   "cell_type": "code",
   "execution_count": 3,
   "metadata": {},
   "outputs": [],
   "source": [
    "model = ClimatePINN()\n",
    "a = model.forward(inputs, masks, coords)"
   ]
  },
  {
   "cell_type": "code",
   "execution_count": 4,
   "metadata": {},
   "outputs": [
    {
     "data": {
      "text/plain": [
       "{'e1': tensor(0.0068, grad_fn=<MseLossBackward0>),\n",
       " 'e2': tensor(0.0090, grad_fn=<MseLossBackward0>),\n",
       " 'e3': tensor(0.0091, grad_fn=<MseLossBackward0>)}"
      ]
     },
     "execution_count": 4,
     "metadata": {},
     "output_type": "execute_result"
    }
   ],
   "source": [
    "a['physics_loss']"
   ]
  },
  {
   "cell_type": "code",
   "execution_count": 5,
   "metadata": {},
   "outputs": [],
   "source": [
    "u = a['output'][:,0,...]\n",
    "v = a['output'][:,1,...]\n",
    "Re = model.reynolds_network(u,v)"
   ]
  },
  {
   "cell_type": "code",
   "execution_count": 6,
   "metadata": {},
   "outputs": [
    {
     "data": {
      "text/plain": [
       "<matplotlib.image.AxesImage at 0x70dfa1386a50>"
      ]
     },
     "execution_count": 6,
     "metadata": {},
     "output_type": "execute_result"
    }
   ],
   "source": [
    "# Assuming Re is your tensor\n",
    "Re_array = Re.cpu().detach().numpy()[0, 0, ...]\n",
    "\n",
    "# Normalize the data for visualization\n",
    "normalized_Re = (Re_array - np.min(Re_array)) / (np.max(Re_array) - np.min(Re_array))\n",
    "\n",
    "# Plot the normalized data\n",
    "plt.imshow(normalized_Re, cmap='viridis')  "
   ]
  },
  {
   "cell_type": "code",
   "execution_count": 10,
   "metadata": {},
   "outputs": [
    {
     "data": {
      "text/plain": [
       "tensor(50631.5508, grad_fn=<MeanBackward0>)"
      ]
     },
     "execution_count": 10,
     "metadata": {},
     "output_type": "execute_result"
    }
   ],
   "source": []
  },
  {
   "cell_type": "code",
   "execution_count": 7,
   "metadata": {},
   "outputs": [],
   "source": [
    "\n",
    "# # Example usage\n",
    "# checkpoint_path = \"checkpoints/run_1.pt\"  # Update with your checkpoint path\n",
    "# data_dir = \"./data/era_5_data\"  # Update with your data directory\n",
    "# visualize_predictions(checkpoint_path, data_dir,72)"
   ]
  }
 ],
 "metadata": {
  "kernelspec": {
   "display_name": "projet_IA",
   "language": "python",
   "name": "python3"
  },
  "language_info": {
   "codemirror_mode": {
    "name": "ipython",
    "version": 3
   },
   "file_extension": ".py",
   "mimetype": "text/x-python",
   "name": "python",
   "nbconvert_exporter": "python",
   "pygments_lexer": "ipython3",
   "version": "3.12.8"
  }
 },
 "nbformat": 4,
 "nbformat_minor": 2
}
