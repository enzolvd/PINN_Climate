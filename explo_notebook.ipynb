{
 "cells": [
  {
   "cell_type": "markdown",
   "metadata": {},
   "source": [
    "# **0.Import libraries**"
   ]
  },
  {
   "cell_type": "code",
   "execution_count": null,
   "metadata": {},
   "outputs": [],
   "source": [
    "from dataset import load_dataset\n",
    "# from models.model_2_dropout_imp import ClimatePINN\n",
    "from train import plot_comparison\n",
    "from torch.utils.data import DataLoader\n",
    "import numpy as np\n",
    "import matplotlib.pyplot as plt\n",
    "import torch\n",
    "import xarray as xr\n",
    "from visualisation import visualize_predictions\n",
    "import json\n",
    "import seaborn as sns\n",
    "import pandas as pd\n",
    "from scipy.stats import pearsonr\n",
    "from tqdm import tqdm\n",
    "%matplotlib inline"
   ]
  },
  {
   "cell_type": "markdown",
   "metadata": {},
   "source": [
    "# **1.Load data**"
   ]
  },
  {
   "cell_type": "code",
   "execution_count": null,
   "metadata": {},
   "outputs": [],
   "source": [
    "dataset = load_dataset(\n",
    "    1, \n",
    "    train_val_split = None, \n",
    "    year0=2000, \n",
    "    root_dir=\"./data/era_5_data\",\n",
    "    normalize=True)\n",
    "\n",
    "idx = [0,1,2]\n",
    "inputs, targets = dataset['train'][:]['input'], dataset['train'][:]['target']\n",
    "geo500 , t850 = inputs[:,0,...], inputs[:,1,...]\n",
    "t2m, u, v = targets[:,0,...], targets[:,1,...], targets[:,2,...]\n",
    "inputs = (geo500 , t850)\n",
    "targets = (t2m, u, v)\n",
    "lon, lat= dataset['train'][0]['coords'][0], dataset['train'][0]['coords'][1]"
   ]
  },
  {
   "cell_type": "code",
   "execution_count": null,
   "metadata": {},
   "outputs": [],
   "source": [
    "vars = (geo500 , t850, t2m, u, v)\n",
    "\n",
    "corr_matrix = np.zeros((5,5))\n",
    "vars_name = ['input:geo500', 'input:t850', 'target:t2m', 'target:u', 'target:v']\n",
    "corr_matrix = np.zeros((5, 5, 32, 64))\n",
    "import matplotlib.colors as mcolors\n",
    "norm = mcolors.Normalize(vmin=-1, vmax=1)\n",
    "for x, var_x in tqdm(enumerate(vars)):\n",
    "    for y, var_y in enumerate(vars):\n",
    "        corr = pearsonr(var_x, var_y)[0]\n",
    "        corr_matrix[x,y] = corr"
   ]
  },
  {
   "cell_type": "markdown",
   "metadata": {},
   "source": [
    "# **2.Correlation**"
   ]
  },
  {
   "cell_type": "code",
   "execution_count": null,
   "metadata": {},
   "outputs": [],
   "source": [
    "# Flatten the arrays\n",
    "vars = (geo500.flatten(), t850.flatten(), t2m.flatten(), u.flatten(), v.flatten())\n",
    "vars_name = ['geo500', 't850', 't2m', 'u', 'v']\n",
    "\n",
    "# Compute the correlation matrix\n",
    "corr_matrix = np.zeros((5, 5))\n",
    "for x, var_x in tqdm(enumerate(vars)):\n",
    "    for y, var_y in enumerate(vars):\n",
    "        corr = pearsonr(var_x, var_y)[0]\n",
    "        corr_matrix[x, y] = corr\n",
    "\n",
    "# Create a figure and axes\n",
    "fig, ax = plt.subplots(figsize=(10, 8))\n",
    "\n",
    "# Plot the correlation matrix\n",
    "im = ax.imshow(corr_matrix, cmap='coolwarm', vmin=-1, vmax=1)\n",
    "\n",
    "# Add color bar\n",
    "cbar = fig.colorbar(im, ax=ax, orientation='vertical', fraction=0.046, pad=0.04)\n",
    "cbar.set_label('Correlation Coefficient')\n",
    "\n",
    "# Add labels to the matrix\n",
    "ax.set_xticks(np.arange(len(vars_name)))\n",
    "ax.set_yticks(np.arange(len(vars_name)))\n",
    "ax.set_xticklabels(vars_name)\n",
    "ax.set_yticklabels(vars_name)\n",
    "\n",
    "# Rotate the tick labels for better readability\n",
    "plt.setp(ax.get_xticklabels(), rotation=45, ha=\"right\", rotation_mode=\"anchor\")\n",
    "\n",
    "# Add separators\n",
    "ax.axvline(x=1.5, color='black', linewidth=2)\n",
    "ax.axhline(y=1.5, color='black', linewidth=2)\n",
    "\n",
    "# Annotate the cells with the correlation coefficients\n",
    "for i in range(len(vars_name)):\n",
    "    for j in range(len(vars_name)):\n",
    "        text = ax.text(j, i, f\"{corr_matrix[i, j]:.2f}\",\n",
    "                       ha=\"center\", va=\"center\", color=\"black\")\n",
    "\n",
    "# Add title\n",
    "plt.title('Correlation Matrix')\n",
    "\n",
    "# Show plot\n",
    "plt.show()"
   ]
  }
 ],
 "metadata": {
  "kernelspec": {
   "display_name": "projet_IA",
   "language": "python",
   "name": "python3"
  },
  "language_info": {
   "codemirror_mode": {
    "name": "ipython",
    "version": 3
   },
   "file_extension": ".py",
   "mimetype": "text/x-python",
   "name": "python",
   "nbconvert_exporter": "python",
   "pygments_lexer": "ipython3",
   "version": "3.12.8"
  }
 },
 "nbformat": 4,
 "nbformat_minor": 2
}
